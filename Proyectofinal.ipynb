{
 "cells": [
  {
   "cell_type": "code",
   "execution_count": null,
   "metadata": {},
   "outputs": [],
   "source": [
    "#1 - Armar un menú interactivo que tenga las opciones:\n",
    "#    1. Agregar productos (nombre y cantidad)\n",
    "#    2. Mostrar productos\n",
    "# Los productos se tienen que agregar a una lista donde se visualice el nombre y la cantidad"
   ]
  },
  {
   "cell_type": "code",
   "execution_count": null,
   "metadata": {},
   "outputs": [],
   "source": [
    "lista_productos = {}"
   ]
  },
  {
   "cell_type": "code",
   "execution_count": null,
   "metadata": {},
   "outputs": [],
   "source": [
    "#Menú\n",
    "\n",
    "def agregar_productos():\n",
    "    while True:\n",
    "        producto = input(\"Ingresa el nombre del producto (o escribe 'salir' para terminar): \")\n",
    "        if producto.lower() == 'salir':\n",
    "            break\n",
    "        # Verificar si el producto ya existe en el diccionario\n",
    "        if producto in lista_productos:\n",
    "            cantidad = int(input(f\"Ingrese la cantidad a agregar al producto '{producto}': \"))\n",
    "            lista_productos[producto] += cantidad  # Sumar la nueva cantidad\n",
    "        else:\n",
    "            cantidad = int(input(f\"Ingrese la cantidad del producto '{producto}': \"))\n",
    "            lista_productos[producto] = cantidad  # Agregar nuevo producto\n",
    "\n",
    "while True:\n",
    "    menu = print(\"Stock Gonza Asociación Civil \\n \\n1. Agregar productos \\n2. Mostrar productos \\n3. Salir\")\n",
    "    opciones = int(input(\"Seleccioné una opción\"))\n",
    "    if opciones == 1:\n",
    "        agregar_productos()\n",
    "    elif opciones == 2:\n",
    "        print(\"Lista de productos y cantidades:\")\n",
    "        for producto, cantidad in lista_productos.items():\n",
    "            print(f\"- {producto}: {cantidad}\")\n",
    "    elif opciones == 3:\n",
    "        print(\"Salir del programa...\")\n",
    "        break\n",
    "    else:\n",
    "        print(\"Opción no válida. Por favor, seleccione una opción del menú.\")\n",
    "\n"
   ]
  }
 ],
 "metadata": {
  "kernelspec": {
   "display_name": "Python 3",
   "language": "python",
   "name": "python3"
  },
  "language_info": {
   "codemirror_mode": {
    "name": "ipython",
    "version": 3
   },
   "file_extension": ".py",
   "mimetype": "text/x-python",
   "name": "python",
   "nbconvert_exporter": "python",
   "pygments_lexer": "ipython3",
   "version": "3.12.0"
  }
 },
 "nbformat": 4,
 "nbformat_minor": 2
}
