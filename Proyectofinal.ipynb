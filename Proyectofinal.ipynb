{
 "cells": [
  {
   "cell_type": "code",
   "execution_count": null,
   "metadata": {},
   "outputs": [],
   "source": [
    "#1 - Armar un menú interactivo que tenga las opciones:\n",
    "#    1. Agregar productos (nombre y cantidad)\n",
    "#    2. Mostrar productos\n",
    "# Los productos se tienen que agregar a una lista donde se visualice el nombre y la cantidad"
   ]
  },
  {
   "cell_type": "code",
   "execution_count": null,
   "metadata": {},
   "outputs": [],
   "source": [
    "lista_productos = {}"
   ]
  },
  {
   "cell_type": "code",
   "execution_count": 24,
   "metadata": {},
   "outputs": [
    {
     "name": "stdout",
     "output_type": "stream",
     "text": [
      "Stock Gonza Asociación Civil \n",
      " \n",
      "1. Agregar productos \n",
      "2. Mostrar productos \n",
      "3. Salir\n"
     ]
    },
    {
     "ename": "ValueError",
     "evalue": "invalid literal for int() with base 10: ''",
     "output_type": "error",
     "traceback": [
      "\u001b[1;31m---------------------------------------------------------------------------\u001b[0m",
      "\u001b[1;31mValueError\u001b[0m                                Traceback (most recent call last)",
      "Cell \u001b[1;32mIn[24], line 20\u001b[0m\n\u001b[0;32m     18\u001b[0m opciones \u001b[38;5;241m=\u001b[39m \u001b[38;5;28mint\u001b[39m(\u001b[38;5;28minput\u001b[39m(\u001b[38;5;124m\"\u001b[39m\u001b[38;5;124mSeleccioné una opción\u001b[39m\u001b[38;5;124m\"\u001b[39m))\n\u001b[0;32m     19\u001b[0m \u001b[38;5;28;01mif\u001b[39;00m opciones \u001b[38;5;241m==\u001b[39m \u001b[38;5;241m1\u001b[39m:\n\u001b[1;32m---> 20\u001b[0m     \u001b[43magregar_productos\u001b[49m\u001b[43m(\u001b[49m\u001b[43m)\u001b[49m\n\u001b[0;32m     21\u001b[0m \u001b[38;5;28;01melif\u001b[39;00m opciones \u001b[38;5;241m==\u001b[39m \u001b[38;5;241m2\u001b[39m:\n\u001b[0;32m     22\u001b[0m     \u001b[38;5;28mprint\u001b[39m(\u001b[38;5;124m\"\u001b[39m\u001b[38;5;124mLista de productos y cantidades:\u001b[39m\u001b[38;5;124m\"\u001b[39m)\n",
      "Cell \u001b[1;32mIn[24], line 13\u001b[0m, in \u001b[0;36magregar_productos\u001b[1;34m()\u001b[0m\n\u001b[0;32m     11\u001b[0m     lista_productos[producto] \u001b[38;5;241m+\u001b[39m\u001b[38;5;241m=\u001b[39m cantidad  \u001b[38;5;66;03m# Sumar la nueva cantidad\u001b[39;00m\n\u001b[0;32m     12\u001b[0m \u001b[38;5;28;01melse\u001b[39;00m:\n\u001b[1;32m---> 13\u001b[0m     cantidad \u001b[38;5;241m=\u001b[39m \u001b[38;5;28;43mint\u001b[39;49m\u001b[43m(\u001b[49m\u001b[38;5;28;43minput\u001b[39;49m\u001b[43m(\u001b[49m\u001b[38;5;124;43mf\u001b[39;49m\u001b[38;5;124;43m\"\u001b[39;49m\u001b[38;5;124;43mIngrese la cantidad del producto \u001b[39;49m\u001b[38;5;124;43m'\u001b[39;49m\u001b[38;5;132;43;01m{\u001b[39;49;00m\u001b[43mproducto\u001b[49m\u001b[38;5;132;43;01m}\u001b[39;49;00m\u001b[38;5;124;43m'\u001b[39;49m\u001b[38;5;124;43m: \u001b[39;49m\u001b[38;5;124;43m\"\u001b[39;49m\u001b[43m)\u001b[49m\u001b[43m)\u001b[49m\n\u001b[0;32m     14\u001b[0m     lista_productos[producto] \u001b[38;5;241m=\u001b[39m cantidad\n",
      "\u001b[1;31mValueError\u001b[0m: invalid literal for int() with base 10: ''"
     ]
    }
   ],
   "source": [
    "#Menú\n",
    "\n",
    "def agregar_productos():\n",
    "    while True:\n",
    "        producto = input(\"Ingresa el nombre del producto (o escribe 'salir' para terminar): \")\n",
    "        if producto == 'salir':\n",
    "            break\n",
    "        # Verificar si el producto ya existe en el diccionario\n",
    "        if producto in lista_productos:\n",
    "            cantidad = int(input(f\"Ingrese la cantidad a agregar al producto '{producto}': \"))\n",
    "            lista_productos[producto] += cantidad  # Sumar la nueva cantidad\n",
    "        else:\n",
    "            cantidad = int(input(f\"Ingrese la cantidad del producto '{producto}': \"))\n",
    "            lista_productos[producto] = cantidad  # Agregar nuevo producto\n",
    "\n",
    "while True:\n",
    "    menu = print(\"Stock Gonza Asociación Civil \\n \\n1. Agregar productos \\n2. Mostrar productos \\n3. Salir\")\n",
    "    opciones = int(input(\"Seleccioné una opción\"))\n",
    "    if opciones == 1:\n",
    "        agregar_productos()\n",
    "    elif opciones == 2:\n",
    "        print(\"Lista de productos y cantidades:\")\n",
    "        for producto, cantidad in lista_productos.items():\n",
    "            print(f\"- {producto}: {cantidad}\")\n",
    "    elif opciones == 3:\n",
    "        print(\"Salir del programa...\")\n",
    "        break\n",
    "    else:\n",
    "        print(\"Opción no válida. Por favor, seleccione una opción del menú.\")\n",
    "\n"
   ]
  }
 ],
 "metadata": {
  "kernelspec": {
   "display_name": "Python 3",
   "language": "python",
   "name": "python3"
  },
  "language_info": {
   "codemirror_mode": {
    "name": "ipython",
    "version": 3
   },
   "file_extension": ".py",
   "mimetype": "text/x-python",
   "name": "python",
   "nbconvert_exporter": "python",
   "pygments_lexer": "ipython3",
   "version": "3.12.0"
  }
 },
 "nbformat": 4,
 "nbformat_minor": 2
}
